{
 "cells": [
  {
   "cell_type": "code",
   "execution_count": 1,
   "metadata": {},
   "outputs": [],
   "source": [
    "%matplotlib inline\n",
    "import numpy as np\n",
    "import matplotlib.pyplot as plt"
   ]
  },
  {
   "cell_type": "code",
   "execution_count": 8,
   "metadata": {},
   "outputs": [],
   "source": [
    "#pretty plot stuff\n",
    "#I use this to make changes to my plot\n",
    "plt.rcParams['figure.figsize'] = (8,6.5)           # changes my figure size with length 8 and width 6.5\n",
    "plt.rcParams['legend.frameon'] = True              # if True, legend will have a border\n",
    "plt.rcParams['legend.fontsize'] = 12               # legend fontsize is 12\n",
    "plt.rcParams['legend.borderpad'] = 0.5             # width of the border of the legend\n",
    "plt.rcParams[\"legend.framealpha\"] = 0.8            # changes how transparant the legend is.\n",
    "plt.rcParams['font.family'] = 'STIXGeneral'        # sets font\n",
    "plt.rcParams['font.size'] = 20                     #sets general font size"
   ]
  },
  {
   "cell_type": "markdown",
   "metadata": {},
   "source": [
    "# Bisection Search\n",
    "This notebook will numerically find the roots using the bisection search method."
   ]
  },
  {
   "cell_type": "code",
   "execution_count": 173,
   "metadata": {},
   "outputs": [],
   "source": [
    "#define function we want to find the roots of\n",
    "def function_for_roots(x):\n",
    "    a = 1.01\n",
    "    b = -3.04\n",
    "    c = 2.07\n",
    "    return a*x**2 + b*x + c"
   ]
  },
  {
   "cell_type": "code",
   "execution_count": 174,
   "metadata": {},
   "outputs": [],
   "source": [
    "#function to check if initial values are valid\n",
    "def check_initial_values(f, x_min, x_max, tol):\n",
    "    #check initial guesses\n",
    "    y_min = f(x_min)\n",
    "    y_max = f(x_max)\n",
    "    \n",
    "    #check if x_min and x_max contain a zero crossing\n",
    "    if(y_min*y_max >= 0.0):\n",
    "        print(\"No zero crossing found in range = \", x_min, x_max)\n",
    "        s = \"f(%f) = %f, f(%f) = %f\" % (x_min, y_min, x_max, y_max)\n",
    "        print(s)\n",
    "        return 0\n",
    "    \n",
    "    #if x_min is a root, then return flag == 1\n",
    "    if(np.fabs(y_min) < tol):\n",
    "        return 1\n",
    "    \n",
    "    #if x_max is a root, then return flag ==2\n",
    "    if(np.fabs(y_max) < tol):\n",
    "        return 2\n",
    "    \n",
    "    #if we reach this point, the bracket is valid and we will return 3\n",
    "    return 3"
   ]
  },
  {
   "cell_type": "code",
   "execution_count": 175,
   "metadata": {},
   "outputs": [],
   "source": [
    "#define main work function that actually goes through the search, BISECTION SEARCH\n",
    "def bisection_root_finding(f, x_min_start, x_max_start, tol):\n",
    "    \n",
    "    x_min = x_min_start         #minimum x in bracket\n",
    "    x_max = x_max_start         #maximum x in bracket\n",
    "    x_mid = 0.0                 #midpoint\n",
    "    \n",
    "    y_min = f(x_min)            #function value at x_min\n",
    "    y_max = f(x_max)            #function value at x_max\n",
    "    y_mid = 0.0                 #midpoint\n",
    "    \n",
    "    imax = 1000                 #sets a max number of iterations\n",
    "    i = 0                       #iteration number\n",
    "    \n",
    "    #check initial values\n",
    "    flag = check_initial_values(f, x_min, x_max, tol)\n",
    "    if(flag == 0):\n",
    "        print(\"Error in bisection_root_finding().\")\n",
    "        raise ValueError('Initial values invalid', x_min, x_max)\n",
    "    elif(flag == 1):\n",
    "        return x_min            #lucky guess\n",
    "    elif(flag == 2):\n",
    "        return x_max            #lucky guess\n",
    "    \n",
    "    #Now conduct the search if this point is reached\n",
    "    flag = 1                    #sets flag\n",
    "    \n",
    "    #enter a while loop\n",
    "    while(flag):\n",
    "        x_mid = 0.5 * (x_min + x_max)   #midpoint\n",
    "        y_mid = f(x_mid)\n",
    "        \n",
    "        #check if x_mid is root\n",
    "        if(np.fabs(y_mid) < tol):\n",
    "            flag = 0\n",
    "        else:\n",
    "            #x_mid is not a root\n",
    "            #replace end point of bracket if poduct of function of end point if greater than 0\n",
    "            if(f(x_min) * f(x_mid) > 0):\n",
    "                x_min = x_mid      #replaced x_min with x_mid\n",
    "            else:\n",
    "                x_max = x_mid      #replaced x_max with x_mid\n",
    "                \n",
    "        print(x_min, f(x_min), x_max, f(x_max)) #prints limits of this iteration\n",
    "        \n",
    "        i += 1       #count the iteration, makes the for loop keep going\n",
    "        \n",
    "        #if max number of iterations is exceeded, quit\n",
    "        if(i >= imax):\n",
    "            print(\"Exceeded max number of iterations = \", i)\n",
    "            s = \"Min bracket f($f) = %f\" % (x_min, f(x_min))\n",
    "            print(s)\n",
    "            s = \"Max bracket f(%f) = %f\" % (x_max, f(x_max))\n",
    "            print(s)\n",
    "            s = \"Mid bracket f(%f) = %f\" % (x_mid, f(x_mid))\n",
    "            raise StopIteration('Stopping iterations after', i)\n",
    "            \n",
    "        #print(\"Iteration: %f\" %(i))\n",
    "    \n",
    "    #DONE!\n",
    "    iteration = np.round(i, 2)            #gets the number of the iteration\n",
    "    print(\"Iterations: \" + str(i))        #prints out the total number of iterations\n",
    "    return x_mid"
   ]
  },
  {
   "cell_type": "markdown",
   "metadata": {},
   "source": [
    "The following cell will find both roots. The first part will find root 1 and the second part will find root 2. It will also print out the total number of iterations it took to converge to each root."
   ]
  },
  {
   "cell_type": "code",
   "execution_count": 182,
   "metadata": {},
   "outputs": [
    {
     "name": "stdout",
     "output_type": "stream",
     "text": [
      "0.9 0.15209999999999968\n",
      "1.2 -0.12360000000000015\n",
      "0.9 0.15209999999999968 1.05 -0.008475000000000232\n",
      "0.9750000000000001 0.06613124999999975 1.05 -0.008475000000000232\n",
      "1.0125000000000002 0.027407812499999462 1.05 -0.008475000000000232\n",
      "1.03125 0.009111328124999485 1.05 -0.008475000000000232\n",
      "1.040625 0.00022939453124992681 1.05 -0.008475000000000232\n",
      "1.040625 0.00022939453124992681 1.0453125 -0.004144995117188355\n",
      "1.040625 0.00022939453124992681 1.04296875 -0.0019633483886720704\n",
      "1.040625 0.00022939453124992681 1.041796875 -0.0008683639526370079\n",
      "1.040625 0.00022939453124992681 1.0412109374999998 -0.00031983146667480256\n",
      "1.040625 0.00022939453124992681 1.0409179687499999 -4.5305156707975414e-05\n",
      "1.040771484375 9.202301502186927e-05 1.0409179687499999 -4.5305156707975414e-05\n",
      "1.0408447265624998 2.335351109516992e-05 1.0409179687499999 -4.5305156707975414e-05\n",
      "1.0408447265624998 2.335351109516992e-05 1.0408813476562497 -1.0977177321791487e-05\n",
      "1.0408630371093748 6.1878282573424315e-06 1.0408813476562497 -1.0977177321791487e-05\n",
      "1.0408630371093748 6.1878282573424315e-06 1.0408721923828121 -2.394759189172646e-06\n",
      "1.0408676147460936 1.8965133699033743e-06 1.0408721923828121 -2.394759189172646e-06\n",
      "1.0408676147460936 1.8965133699033743e-06 1.0408721923828121 -2.394759189172646e-06\n",
      "Iterations: 17\n",
      "Root 1 found with y(1.040870) = -0.000000\n",
      "1.8 -0.12960000000000038\n",
      "2.1 0.1400999999999999\n",
      "1.9500000000000002 -0.01747500000000013 2.1 0.1400999999999999\n",
      "1.9500000000000002 -0.01747500000000013 2.0250000000000004 0.0556312499999998\n",
      "1.9500000000000002 -0.01747500000000013 1.9875000000000003 0.01765781249999998\n",
      "1.9687500000000002 -0.00026367187499953815 1.9875000000000003 0.01765781249999998\n",
      "1.9687500000000002 -0.00026367187499953815 1.9781250000000004 0.008608300781249856\n",
      "1.9687500000000002 -0.00026367187499953815 1.9734375000000002 0.004150122070312179\n",
      "1.9687500000000002 -0.00026367187499953815 1.97109375 0.0019376770019530198\n",
      "1.9687500000000002 -0.00026367187499953815 1.9699218750000003 0.0008356155395512488\n",
      "1.9687500000000002 -0.00026367187499953815 1.9693359375000004 0.00028562507629459333\n",
      "1.9687500000000002 -0.00026367187499953815 1.9690429687500002 1.0889911651545958e-05\n",
      "1.968896484375 -0.00012641265392332457 1.9690429687500002 1.0889911651545958e-05\n",
      "1.9689697265625001 -5.776678919833245e-05 1.9690429687500002 1.0889911651545958e-05\n",
      "1.9690063476562503 -2.343979328855994e-05 1.9690429687500002 1.0889911651545958e-05\n",
      "1.9690246582031252 -6.275279447631732e-06 1.9690429687500002 1.0889911651545958e-05\n",
      "1.9690246582031252 -6.275279447631732e-06 1.9690338134765626 2.307231445008995e-06\n",
      "1.969029235839844 -1.984045165492887e-06 1.9690338134765626 2.307231445008995e-06\n",
      "1.969029235839844 -1.984045165492887e-06 1.9690338134765626 2.307231445008995e-06\n",
      "Iterations: 17\n",
      "Root 2 found with y(1.969032) = 0.000000\n"
     ]
    }
   ],
   "source": [
    "#SEARCH TIME for Root 1\n",
    "x_min1 = 0.9\n",
    "x_max1 = 1.2\n",
    "tolerance = 1.0e-6\n",
    "\n",
    "y_min1 = 1.01*x_min1**2 - 3.04*x_min1 + 2.07 \n",
    "y_max1 = 1.01*x_max1**2 - 3.04*x_max1 + 2.07\n",
    "\n",
    "#print the initial guesses\n",
    "print(x_min1, function_for_roots(x_min1))\n",
    "print(x_max1, function_for_roots(x_max1))\n",
    "\n",
    "x_root1 = bisection_root_finding(function_for_roots, x_min1, x_max1, tolerance)\n",
    "y_root1 = function_for_roots(x_root1)\n",
    "\n",
    "s = \"Root 1 found with y(%f) = %f\" % (x_root1, y_root1)\n",
    "print(s)\n",
    "\n",
    "#SEARCH TIME for Root 2\n",
    "x_min2 = 1.8\n",
    "x_max2 = 2.1\n",
    "\n",
    "y_min2 = 1.01*x_min2**2 - 3.04*x_min2 + 2.07 \n",
    "y_max2 = 1.01*x_max2**2 - 3.04*x_max2 + 2.07\n",
    "\n",
    "#print the initial guesses\n",
    "print(x_min2, function_for_roots(x_min2))\n",
    "print(x_max2, function_for_roots(x_max2))\n",
    "\n",
    "x_root2 = bisection_root_finding(function_for_roots, x_min2, x_max2, tolerance)\n",
    "y_root2 = function_for_roots(x_root2)\n",
    "\n",
    "s = \"Root 2 found with y(%f) = %f\" % (x_root2, y_root2)\n",
    "print(s)"
   ]
  },
  {
   "cell_type": "markdown",
   "metadata": {},
   "source": [
    "Now we plot the function and the roots it found!"
   ]
  },
  {
   "cell_type": "code",
   "execution_count": 193,
   "metadata": {},
   "outputs": [
    {
     "data": {
      "image/png": "[encoded data removed]",
      "text/plain": [
       "<matplotlib.figure.Figure at 0x1e31ed480b8>"
      ]
     },
     "metadata": {},
     "output_type": "display_data"
    }
   ],
   "source": [
    "x = np.linspace(0, 3, 1000)\n",
    "\n",
    "a = 1.01\n",
    "b = -3.04\n",
    "c = 2.07\n",
    "plt.plot(x, a*x**2 + b*x + c, color = 'cornflowerblue', lw = 0.7)\n",
    "plt.axhline(0, color = 'black', ls = '--', lw = 0.9)\n",
    "\n",
    "xmin1 = np.round(x_min1, 2)\n",
    "xmax1 = np.round(x_max1, 2)\n",
    "xroot1 = np.round(x_root1, 2)\n",
    "plt.plot(x_min1, y_min1, marker = 'o', color = \"gold\") #, label = \"Minimum: \" + str(xmin1))\n",
    "plt.plot(x_max1, y_max1, marker = 'o', color = \"gold\") #, label = \"Maximum: \" + str(xmax1))\n",
    "plt.plot(x_root1, y_root1, marker = 'o', color = 'mediumvioletred', label = \"Root 1: \" + str(xroot1))\n",
    "\n",
    "xmin2 = np.round(x_min2, 2)\n",
    "xmax2 = np.round(x_max2, 2)\n",
    "xroot2 = np.round(x_root2, 2)\n",
    "plt.plot(x_min2, y_min2, marker = 'o', color = \"gold\") #, label = \"Minimum: \" + str(xmin2))\n",
    "plt.plot(x_max2, y_max2, marker = 'o', color = \"gold\") #, label = \"Maximum: \" + str(xmax2))\n",
    "plt.plot(x_root2, y_root2, marker = 'o', color = 'mediumvioletred', label = \"Root 2: \" + str(xroot2))\n",
    "\n",
    "plt.xlabel('x')\n",
    "plt.ylabel('y(x)')\n",
    "plt.title('Finding roots by \"Bisection Search\"')\n",
    "plt.legend(loc = 'best')\n",
    "plt.xlim(0, 3)\n",
    "plt.ylim(-0.5, 2.1)\n",
    "plt.grid()"
   ]
  },
  {
   "cell_type": "code",
   "execution_count": null,
   "metadata": {},
   "outputs": [],
   "source": []
  }
 ],
 "metadata": {
  "kernelspec": {
   "display_name": "Python 3",
   "language": "python",
   "name": "python3"
  },
  "language_info": {
   "codemirror_mode": {
    "name": "ipython",
    "version": 3
   },
   "file_extension": ".py",
   "mimetype": "text/x-python",
   "name": "python",
   "nbconvert_exporter": "python",
   "pygments_lexer": "ipython3",
   "version": "3.6.4"
  }
 },
 "nbformat": 4,
 "nbformat_minor": 2
}
